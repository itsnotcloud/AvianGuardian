{
 "cells": [
  {
   "cell_type": "code",
   "execution_count": null,
   "metadata": {},
   "outputs": [
    {
     "name": "stdout",
     "output_type": "stream",
     "text": [
      "Test metadata shape: (681, 3)\n",
      "Merged test data shape: (681, 16)\n",
      "              precision    recall  f1-score   support\n",
      "\n",
      "           0       0.98      0.97      0.98       128\n",
      "           1       0.99      1.00      0.99       553\n",
      "\n",
      "    accuracy                           0.99       681\n",
      "   macro avg       0.99      0.98      0.99       681\n",
      "weighted avg       0.99      0.99      0.99       681\n",
      "\n"
     ]
    }
   ],
   "source": [
    "import pandas as pd\n",
    "from sklearn.metrics import classification_report\n",
    "import joblib\n",
    "\n",
    "test_metadata = pd.read_csv(r\"C:\\Users\\Varun\\OneDrive\\Desktop\\Bird Sound and Endangered Detection\\metadata_updated.csv\")\n",
    "test_metadata = test_metadata[test_metadata['split'].str.lower() == 'test']\n",
    "print(\"Test metadata shape:\", test_metadata.shape)\n",
    "\n",
    "features = pd.read_csv(r\"C:\\Users\\Varun\\OneDrive\\Desktop\\Bird Sound and Endangered Detection\\features.csv\")\n",
    "test_data = pd.merge(test_metadata, features, on=\"filename\")\n",
    "print(\"Merged test data shape:\", test_data.shape)\n",
    "\n",
    "def standardize(name):\n",
    "    return name.replace(\" \", \"\").lower()\n",
    "\n",
    "non_endangered_species = [\"housecrow\", \"housesparrow\", \"commonwoodpigeon\"]\n",
    "\n",
    "# Apply labeling to the test data\n",
    "test_data[\"status\"] = test_data[\"species\"].apply(\n",
    "    lambda x: \"Non-Endangered\" if standardize(x) in non_endangered_species else \"Endangered\"\n",
    ")\n",
    "test_data[\"status_numeric\"] = test_data[\"status\"].apply(lambda x: 0 if x.lower() == \"non-endangered\" else 1)\n",
    "\n",
    "X_test = test_data[[f\"mfcc_{i+1}\" for i in range(13)]].values\n",
    "y_test = test_data[\"status_numeric\"].values\n",
    "\n",
    "model = joblib.load(r\"C:\\Users\\Varun\\OneDrive\\Desktop\\Bird Sound and Endangered Detection\\trained_model.pkl\")\n",
    "y_pred = model.predict(X_test)\n",
    "print(classification_report(y_test, y_pred))\n"
   ]
  }
 ],
 "metadata": {
  "kernelspec": {
   "display_name": "base",
   "language": "python",
   "name": "python3"
  },
  "language_info": {
   "codemirror_mode": {
    "name": "ipython",
    "version": 3
   },
   "file_extension": ".py",
   "mimetype": "text/x-python",
   "name": "python",
   "nbconvert_exporter": "python",
   "pygments_lexer": "ipython3",
   "version": "3.12.4"
  }
 },
 "nbformat": 4,
 "nbformat_minor": 2
}
