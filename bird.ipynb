{
 "cells": [
  {
   "cell_type": "code",
   "execution_count": null,
   "metadata": {},
   "outputs": [
    {
     "name": "stdout",
     "output_type": "stream",
     "text": [
      "Data flattened and metadata saved to metadata.csv\n"
     ]
    }
   ],
   "source": [
    "import os\n",
    "import shutil\n",
    "import pandas as pd\n",
    "source_dir=r\"C:\\Users\\Varun\\OneDrive\\Desktop\\Bird Sound and Endangered Detection\\raw_data\\archive_1\\charaNet\"\n",
    "destination_dir=r\"C:\\Users\\Varun\\OneDrive\\Desktop\\Bird Sound and Endangered Detection\\raw_data_flat\"\n",
    "os.makedirs(destination_dir, exist_ok=True)\n",
    "metadata=[]\n",
    "for split in os.listdir(source_dir):\n",
    "    split_path = os.path.join(source_dir, split)\n",
    "    if os.path.isdir(split_path):\n",
    "        for species in os.listdir(split_path):\n",
    "            species_path = os.path.join(split_path, species)\n",
    "            if os.path.isdir(species_path):\n",
    "                for file in os.listdir(species_path):\n",
    "                    if file.endswith(\".wav\") or file.endswith(\".mp3\") or file.endswith(\".ogg\"):\n",
    "                        src_file = os.path.join(species_path, file)\n",
    "                        new_filename = f\"{species}_{split}_{file}\"\n",
    "                        dest_file = os.path.join(destination_dir, new_filename)\n",
    "                        shutil.copy(src_file, dest_file)\n",
    "                        metadata.append([new_filename, species, split])\n",
    "df=pd.DataFrame(metadata, columns=[\"filename\", \"species\", \"split\"])\n",
    "df.to_csv(os.path.join(r\"C:\\Users\\Varun\\OneDrive\\Desktop\\Bird Sound and Endangered Detection\", \"metadata.csv\"), index=False)\n",
    "print(\"Data flattened and metadata saved to metadata.csv\")"
   ]
  },
  {
   "cell_type": "code",
   "execution_count": 2,
   "metadata": {},
   "outputs": [
    {
     "name": "stdout",
     "output_type": "stream",
     "text": [
      "All files converted to wav and copied to processed_data folder\n"
     ]
    }
   ],
   "source": [
    "import os\n",
    "import shutil\n",
    "from pydub import AudioSegment\n",
    "\n",
    "raw_flat = r\"C:\\Users\\Varun\\OneDrive\\Desktop\\Bird Sound and Endangered Detection\\raw_data_flat\"\n",
    "converted_folder = r\"C:\\Users\\Varun\\OneDrive\\Desktop\\Bird Sound and Endangered Detection\\processed_data\"\n",
    "denoised_folder = r\"C:\\Users\\Varun\\OneDrive\\Desktop\\Bird Sound and Endangered Detection\\processed_denoised\"\n",
    "\n",
    "os.makedirs(converted_folder, exist_ok=True)\n",
    "os.makedirs(denoised_folder, exist_ok=True)\n",
    "\n",
    "for file in os.listdir(raw_flat):\n",
    "    if file.endswith((\".mp3\", \".ogg\", \".flac\", \".wav\")):\n",
    "        file_path = os.path.join(raw_flat, file)\n",
    "        if not file.endswith(\".wav\"):\n",
    "            audio = AudioSegment.from_file(file_path)\n",
    "            new_filename = file.split('.')[0] + \".wav\"\n",
    "            dest_file = os.path.join(converted_folder, new_filename)\n",
    "            audio.export(dest_file, format=\"wav\")\n",
    "        else:\n",
    "            dest_file = os.path.join(converted_folder, file)\n",
    "            shutil.copy(file_path, dest_file)\n",
    "\n",
    "print(\"All files converted to wav and copied to processed_data folder\")\n"
   ]
  },
  {
   "cell_type": "code",
   "execution_count": 9,
   "metadata": {},
   "outputs": [
    {
     "name": "stdout",
     "output_type": "stream",
     "text": [
      "denoising complete. Denoised files are in: C:\\Users\\Varun\\OneDrive\\Desktop\\Bird Sound and Endangered Detection\\processed_denoised\n"
     ]
    }
   ],
   "source": [
    "import librosa\n",
    "import noisereduce as nr\n",
    "import soundfile as sf\n",
    "\n",
    "def denoise_file(input_path,output_path):\n",
    "    y, sr=librosa.load(input_path,sr=16000)\n",
    "    y_denoised=nr.reduce_noise(y=y, sr=sr,prop_decrease=0.8)\n",
    "    sf.write(output_path,y_denoised,sr)\n",
    "    \n",
    "for file in os.listdir(converted_folder):\n",
    "    if file.endswith(\".wav\"):\n",
    "        input_file=os.path.join(converted_folder,file)\n",
    "        output_file=os.path.join(denoised_folder,file.split('.')[0]+\"_denoised.wav\")\n",
    "        denoise_file(input_file,output_file)\n",
    "print(\"denoising complete. Denoised files are in:\",denoised_folder)"
   ]
  },
  {
   "cell_type": "code",
   "execution_count": 10,
   "metadata": {},
   "outputs": [
    {
     "name": "stdout",
     "output_type": "stream",
     "text": [
      "Metadata CSV updated!\n"
     ]
    }
   ],
   "source": [
    "import os\n",
    "import pandas as pd\n",
    "\n",
    "converted_folder = r\"C:\\Users\\Varun\\OneDrive\\Desktop\\Bird Sound and Endangered Detection\\processed_data\"\n",
    "metadata_updated = []\n",
    "\n",
    "for file in os.listdir(converted_folder):\n",
    "    if file.endswith(\".wav\"):\n",
    "        species = file.split(\"_\")[0]\n",
    "        split = file.split(\"_\")[1] if len(file.split(\"_\")) > 1 else \"unknown\"\n",
    "        metadata_updated.append([file, species, split])\n",
    "\n",
    "df_updated = pd.DataFrame(metadata_updated, columns=[\"filename\", \"species\", \"split\"])\n",
    "df_updated.to_csv(r\"C:\\Users\\Varun\\OneDrive\\Desktop\\Bird Sound and Endangered Detection\\metadata_updated.csv\", index=False)\n",
    "print(\"Metadata CSV updated!\")\n"
   ]
  },
  {
   "cell_type": "code",
   "execution_count": 11,
   "metadata": {},
   "outputs": [
    {
     "name": "stdout",
     "output_type": "stream",
     "text": [
      "Feature extraction complete! Features saved to features.csv\n"
     ]
    }
   ],
   "source": [
    "import os\n",
    "import librosa\n",
    "import numpy as np\n",
    "import pandas as pd\n",
    "\n",
    "features = []\n",
    "denoised_folder = r\"C:\\Users\\Varun\\OneDrive\\Desktop\\Bird Sound and Endangered Detection\\processed_denoised\"\n",
    "\n",
    "for file in os.listdir(denoised_folder):\n",
    "    if file.endswith(\".wav\"):\n",
    "        file_path = os.path.join(denoised_folder, file)\n",
    "        y, sr = librosa.load(file_path, sr=16000)\n",
    "        mfcc = librosa.feature.mfcc(y=y, sr=sr, n_mfcc=13)\n",
    "        mfcc_mean = np.mean(mfcc, axis=1)\n",
    "        features.append([file] + mfcc_mean.tolist())\n",
    "\n",
    "columns = [\"filename\"] + [f\"mfcc_{i+1}\" for i in range(13)]\n",
    "df_features = pd.DataFrame(features, columns=columns)\n",
    "df_features.to_csv(r\"C:\\Users\\Varun\\OneDrive\\Desktop\\Bird Sound and Endangered Detection\\\\features.csv\", index=False)\n",
    "print(\"Feature extraction complete! Features saved to features.csv\")\n"
   ]
  },
  {
   "cell_type": "code",
   "execution_count": 7,
   "metadata": {},
   "outputs": [
    {
     "name": "stdout",
     "output_type": "stream",
     "text": [
      "Feature extraction complete! Features saved to features.csv\n"
     ]
    }
   ],
   "source": [
    "import os\n",
    "import librosa\n",
    "import numpy as np\n",
    "import pandas as pd\n",
    "\n",
    "features = []\n",
    "denoised_folder = r\"C:\\Users\\Varun\\OneDrive\\Desktop\\Bird Sound and Endangered Detection\\processed_denoised\"\n",
    "\n",
    "for file in os.listdir(denoised_folder):\n",
    "    if file.endswith(\".wav\"):\n",
    "        file_path = os.path.join(denoised_folder, file)\n",
    "        y, sr = librosa.load(file_path, sr=16000)\n",
    "        mfcc = librosa.feature.mfcc(y=y, sr=sr, n_mfcc=13)\n",
    "        mfcc_mean = np.mean(mfcc, axis=1)\n",
    "        base_filename = file.replace(\"_denoised\", \"\")\n",
    "        features.append([base_filename] + mfcc_mean.tolist())\n",
    "\n",
    "columns = [\"filename\"] + [f\"mfcc_{i+1}\" for i in range(13)]\n",
    "df_features = pd.DataFrame(features, columns=columns)\n",
    "df_features.to_csv(r\"C:\\Users\\Varun\\OneDrive\\Desktop\\Bird Sound and Endangered Detection\\features.csv\", index=False)\n",
    "print(\"Feature extraction complete! Features saved to features.csv\")\n"
   ]
  },
  {
   "cell_type": "code",
   "execution_count": 11,
   "metadata": {},
   "outputs": [
    {
     "name": "stdout",
     "output_type": "stream",
     "text": [
      "Training metadata CSV created!\n"
     ]
    }
   ],
   "source": [
    "import pandas as pd\n",
    "\n",
    "metadata = pd.read_csv(r\"C:\\Users\\Varun\\OneDrive\\Desktop\\Bird Sound and Endangered Detection\\metadata_updated.csv\")\n",
    "# Filter only training data\n",
    "train_metadata = metadata[metadata['split'].str.lower() == \"train\"]\n",
    "train_metadata.to_csv(r\"C:\\Users\\Varun\\OneDrive\\Desktop\\Bird Sound and Endangered Detection\\metadata_train.csv\", index=False)\n",
    "print(\"Training metadata CSV created!\")\n"
   ]
  },
  {
   "cell_type": "code",
   "execution_count": 14,
   "metadata": {},
   "outputs": [
    {
     "name": "stdout",
     "output_type": "stream",
     "text": [
      "Unique species in dataset: ['Asian Koel' 'Black Kite' 'Black-breasted Parrotbill'\n",
      " 'Black-necked crane' 'Bristled Grassbird' 'Cheer Pheasant'\n",
      " 'Common Cuckoo' 'Common Pochard' 'Common Wood Pigeon'\n",
      " 'Eastern Imperial Eagle' 'Egyptian Vulture' 'Great Slaty Woodpecker'\n",
      " 'Greater Spotted Eagle' 'Grey Treepie' 'Grey-crowned Prinia'\n",
      " 'Grey-sided Thrush' 'Himalayan Monal' 'House Crow' 'House Sparrow'\n",
      " 'Indian Spotted Eagle' 'Jerdon' 'Kashmir Flycatcher' 'Large-billed Crow'\n",
      " 'Long-tailed Duck' 'Pallas' 'Red-billed Blue Magpie'\n",
      " 'Rose-ringed Parakeet' 'Rufous Treepie' 'Rufous-necked Hornbill'\n",
      " 'Rustic Bunting' 'Saker Falcon' 'Sarus Crane' 'Satyr Tragopan'\n",
      " 'Slender-billed Babbler' 'Spiny Babbler' 'Spotted Dove' 'Steppe Eagle'\n",
      " 'Swamp Francolin' 'Swamp Grass-babbler' 'White-throated Bushchat'\n",
      " 'Wood Snipe']\n"
     ]
    }
   ],
   "source": [
    "import pandas as pd\n",
    "\n",
    "metadata = pd.read_csv(r\"C:\\Users\\Varun\\OneDrive\\Desktop\\Bird Sound and Endangered Detection\\metadata_updated.csv\")\n",
    "unique_species = metadata['species'].unique()\n",
    "print(\"Unique species in dataset:\", unique_species)\n"
   ]
  },
  {
   "cell_type": "code",
   "execution_count": 17,
   "metadata": {},
   "outputs": [
    {
     "name": "stdout",
     "output_type": "stream",
     "text": [
      "Merged training data shape: (6542, 16)\n",
      "              precision    recall  f1-score   support\n",
      "\n",
      "           0       0.88      0.71      0.79       234\n",
      "           1       0.94      0.98      0.96      1075\n",
      "\n",
      "    accuracy                           0.93      1309\n",
      "   macro avg       0.91      0.85      0.87      1309\n",
      "weighted avg       0.93      0.93      0.93      1309\n",
      "\n",
      "Model saved!\n"
     ]
    }
   ],
   "source": [
    "import pandas as pd\n",
    "from sklearn.model_selection import train_test_split\n",
    "from xgboost import XGBClassifier\n",
    "from sklearn.metrics import classification_report\n",
    "import joblib\n",
    "\n",
    "\n",
    "metadata = pd.read_csv(r\"C:\\Users\\Varun\\OneDrive\\Desktop\\Bird Sound and Endangered Detection\\metadata_updated.csv\")\n",
    "features = pd.read_csv(r\"C:\\Users\\Varun\\OneDrive\\Desktop\\Bird Sound and Endangered Detection\\features.csv\")\n",
    "\n",
    "data = pd.merge(metadata, features, on=\"filename\")\n",
    "print(\"Merged training data shape:\", data.shape)\n",
    "\n",
    "non_endangered_species = [\"housecrow\", \"housesparrow\", \"commonwoodpigeon\"]\n",
    "\n",
    "def standardize(name):\n",
    "    return name.replace(\" \", \"\").lower()\n",
    "\n",
    "\n",
    "data[\"status\"] = data[\"species\"].apply(lambda x: \"Non-Endangered\" if standardize(x) in non_endangered_species else \"Endangered\")\n",
    "data[\"status_numeric\"] = data[\"status\"].apply(lambda x: 0 if x.lower() == \"non-endangered\" else 1)\n",
    "\n",
    "\n",
    "X = data[[f\"mfcc_{i+1}\" for i in range(13)]].values\n",
    "y = data[\"status_numeric\"].values\n",
    "\n",
    "X_train, X_val, y_train, y_val = train_test_split(X, y, test_size=0.2, random_state=42)\n",
    "\n",
    "model = XGBClassifier(eval_metric='logloss')\n",
    "model.fit(X_train, y_train)\n",
    "\n",
    "\n",
    "y_pred = model.predict(X_val)\n",
    "print(classification_report(y_val, y_pred))\n",
    "\n",
    "\n",
    "\n",
    "joblib.dump(model, r\"C:\\Users\\Varun\\OneDrive\\Desktop\\Bird Sound and Endangered Detection\\trained_model.pkl\")\n",
    "print(\"Model saved!\")\n",
    "\n"
   ]
  }
 ],
 "metadata": {
  "kernelspec": {
   "display_name": "base",
   "language": "python",
   "name": "python3"
  },
  "language_info": {
   "codemirror_mode": {
    "name": "ipython",
    "version": 3
   },
   "file_extension": ".py",
   "mimetype": "text/x-python",
   "name": "python",
   "nbconvert_exporter": "python",
   "pygments_lexer": "ipython3",
   "version": "3.12.4"
  }
 },
 "nbformat": 4,
 "nbformat_minor": 2
}
